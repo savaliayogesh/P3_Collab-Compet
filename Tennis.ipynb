{
 "cells": [
  {
   "cell_type": "markdown",
   "metadata": {},
   "source": [
    "# Collaboration and Competition\n",
    "\n",
    "---\n",
    "\n",
    "In this notebook, you will learn how to use the Unity ML-Agents environment for the third project of the [Deep Reinforcement Learning Nanodegree](https://www.udacity.com/course/deep-reinforcement-learning-nanodegree--nd893) program.\n",
    "\n",
    "### 1. Start the Environment\n",
    "\n",
    "We begin by importing the necessary packages.  If the code cell below returns an error, please revisit the project instructions to double-check that you have installed [Unity ML-Agents](https://github.com/Unity-Technologies/ml-agents/blob/master/docs/Installation.md) and [NumPy](http://www.numpy.org/)."
   ]
  },
  {
   "cell_type": "code",
   "execution_count": 1,
   "metadata": {},
   "outputs": [],
   "source": [
    "from unityagents import UnityEnvironment\n",
    "import numpy as np"
   ]
  },
  {
   "cell_type": "markdown",
   "metadata": {},
   "source": [
    "Next, we will start the environment!  **_Before running the code cell below_**, change the `file_name` parameter to match the location of the Unity environment that you downloaded.\n",
    "\n",
    "- **Mac**: `\"path/to/Tennis.app\"`\n",
    "- **Windows** (x86): `\"path/to/Tennis_Windows_x86/Tennis.exe\"`\n",
    "- **Windows** (x86_64): `\"path/to/Tennis_Windows_x86_64/Tennis.exe\"`\n",
    "- **Linux** (x86): `\"path/to/Tennis_Linux/Tennis.x86\"`\n",
    "- **Linux** (x86_64): `\"path/to/Tennis_Linux/Tennis.x86_64\"`\n",
    "- **Linux** (x86, headless): `\"path/to/Tennis_Linux_NoVis/Tennis.x86\"`\n",
    "- **Linux** (x86_64, headless): `\"path/to/Tennis_Linux_NoVis/Tennis.x86_64\"`\n",
    "\n",
    "For instance, if you are using a Mac, then you downloaded `Tennis.app`.  If this file is in the same folder as the notebook, then the line below should appear as follows:\n",
    "```\n",
    "env = UnityEnvironment(file_name=\"Tennis.app\")\n",
    "```"
   ]
  },
  {
   "cell_type": "code",
   "execution_count": 2,
   "metadata": {},
   "outputs": [
    {
     "name": "stderr",
     "output_type": "stream",
     "text": [
      "INFO:unityagents:\n",
      "'Academy' started successfully!\n",
      "Unity Academy name: Academy\n",
      "        Number of Brains: 1\n",
      "        Number of External Brains : 1\n",
      "        Lesson number : 0\n",
      "        Reset Parameters :\n",
      "\t\t\n",
      "Unity brain name: TennisBrain\n",
      "        Number of Visual Observations (per agent): 0\n",
      "        Vector Observation space type: continuous\n",
      "        Vector Observation space size (per agent): 8\n",
      "        Number of stacked Vector Observation: 3\n",
      "        Vector Action space type: continuous\n",
      "        Vector Action space size (per agent): 2\n",
      "        Vector Action descriptions: , \n"
     ]
    }
   ],
   "source": [
    "env = UnityEnvironment(file_name=\"Tennis_Windows_x86/Tennis.exe\")"
   ]
  },
  {
   "cell_type": "markdown",
   "metadata": {},
   "source": [
    "Environments contain **_brains_** which are responsible for deciding the actions of their associated agents. Here we check for the first brain available, and set it as the default brain we will be controlling from Python."
   ]
  },
  {
   "cell_type": "code",
   "execution_count": 3,
   "metadata": {},
   "outputs": [],
   "source": [
    "# get the default brain\n",
    "brain_name = env.brain_names[0]\n",
    "brain = env.brains[brain_name]"
   ]
  },
  {
   "cell_type": "markdown",
   "metadata": {},
   "source": [
    "### 2. Examine the State and Action Spaces\n",
    "\n",
    "In this environment, two agents control rackets to bounce a ball over a net. If an agent hits the ball over the net, it receives a reward of +0.1.  If an agent lets a ball hit the ground or hits the ball out of bounds, it receives a reward of -0.01.  Thus, the goal of each agent is to keep the ball in play.\n",
    "\n",
    "The observation space consists of 8 variables corresponding to the position and velocity of the ball and racket. Two continuous actions are available, corresponding to movement toward (or away from) the net, and jumping. \n",
    "\n",
    "Run the code cell below to print some information about the environment."
   ]
  },
  {
   "cell_type": "code",
   "execution_count": 4,
   "metadata": {},
   "outputs": [
    {
     "name": "stdout",
     "output_type": "stream",
     "text": [
      "Number of agents: 2\n",
      "Size of each action: 2\n",
      "There are 2 agents. Each observes a state with length: 24\n",
      "The state for the first agent looks like: [ 0.          0.          0.          0.          0.          0.\n",
      "  0.          0.          0.          0.          0.          0.\n",
      "  0.          0.          0.          0.         -6.65278625 -1.5\n",
      " -0.          0.          6.83172083  6.         -0.          0.        ]\n"
     ]
    }
   ],
   "source": [
    "# reset the environment\n",
    "env_info = env.reset(train_mode=True)[brain_name]\n",
    "\n",
    "# number of agents \n",
    "num_agents = len(env_info.agents)\n",
    "print('Number of agents:', num_agents)\n",
    "\n",
    "# size of each action\n",
    "action_size = brain.vector_action_space_size\n",
    "print('Size of each action:', action_size)\n",
    "\n",
    "# examine the state space \n",
    "states = env_info.vector_observations\n",
    "state_size = states.shape[1]\n",
    "print('There are {} agents. Each observes a state with length: {}'.format(states.shape[0], state_size))\n",
    "print('The state for the first agent looks like:', states[0])"
   ]
  },
  {
   "cell_type": "markdown",
   "metadata": {},
   "source": [
    "### 3. Take Random Actions in the Environment\n",
    "\n",
    "In the next code cell, you will learn how to use the Python API to control the agents and receive feedback from the environment.\n",
    "\n",
    "Once this cell is executed, you will watch the agents' performance, if they select actions at random with each time step.  A window should pop up that allows you to observe the agents.\n",
    "\n",
    "Of course, as part of the project, you'll have to change the code so that the agents are able to use their experiences to gradually choose better actions when interacting with the environment!"
   ]
  },
  {
   "cell_type": "code",
   "execution_count": 5,
   "metadata": {},
   "outputs": [
    {
     "name": "stdout",
     "output_type": "stream",
     "text": [
      "Score (max over agents) from episode 1: 0.0\n",
      "Score (max over agents) from episode 2: 0.0\n",
      "Score (max over agents) from episode 3: 0.0\n",
      "Score (max over agents) from episode 4: 0.0\n",
      "Score (max over agents) from episode 5: 0.0\n"
     ]
    }
   ],
   "source": [
    "for i in range(1, 6):                                      # play game for 5 episodes\n",
    "    env_info = env.reset(train_mode=False)[brain_name]     # reset the environment    \n",
    "    states = env_info.vector_observations                  # get the current state (for each agent)\n",
    "    scores = np.zeros(num_agents)                          # initialize the score (for each agent)\n",
    "    while True:\n",
    "        actions = np.random.randn(num_agents, action_size) # select an action (for each agent)\n",
    "        actions = np.clip(actions, -1, 1)                  # all actions between -1 and 1\n",
    "        env_info = env.step(actions)[brain_name]           # send all actions to tne environment\n",
    "        next_states = env_info.vector_observations         # get next state (for each agent)\n",
    "        rewards = env_info.rewards                         # get reward (for each agent)\n",
    "        dones = env_info.local_done                        # see if episode finished\n",
    "        scores += env_info.rewards                         # update the score (for each agent)\n",
    "        states = next_states                               # roll over states to next time step\n",
    "        if np.any(dones):                                  # exit loop if episode finished\n",
    "            break\n",
    "    print('Score (max over agents) from episode {}: {}'.format(i, np.max(scores)))"
   ]
  },
  {
   "cell_type": "markdown",
   "metadata": {},
   "source": [
    "When finished, you can close the environment."
   ]
  },
  {
   "cell_type": "code",
   "execution_count": 6,
   "metadata": {},
   "outputs": [],
   "source": [
    "#env.close()"
   ]
  },
  {
   "cell_type": "markdown",
   "metadata": {},
   "source": [
    "### 4. It's Your Turn!\n",
    "\n",
    "Now it's your turn to train your own agent to solve the environment!  When training the environment, set `train_mode=True`, so that the line for resetting the environment looks like the following:\n",
    "```python\n",
    "env_info = env.reset(train_mode=True)[brain_name]\n",
    "```"
   ]
  },
  {
   "cell_type": "code",
   "execution_count": 7,
   "metadata": {},
   "outputs": [],
   "source": [
    "from ddpg_agent import Agent\n",
    "from collections import deque\n",
    "import matplotlib.pyplot as plt\n",
    "import random\n",
    "import torch\n",
    "import numpy as np"
   ]
  },
  {
   "cell_type": "code",
   "execution_count": 8,
   "metadata": {},
   "outputs": [],
   "source": [
    "agent = Agent(state_size=state_size, action_size=action_size, num_agents=num_agents, random_seed=10)"
   ]
  },
  {
   "cell_type": "code",
   "execution_count": 9,
   "metadata": {},
   "outputs": [],
   "source": [
    "def ddpg(n_episodes=1000, max_t=300, print_every=100):\n",
    "    scores_deque = deque(maxlen=print_every)\n",
    "    scores = []\n",
    "    mean_scores = []                 # list containing running mean scores from 100 episodes\n",
    "    for i_episode in range(1, n_episodes+1):\n",
    "        env_info = env.reset(train_mode=True)[brain_name]\n",
    "        state = env_info.vector_observations\n",
    "        agent.reset()\n",
    "        score = np.zeros(num_agents)\n",
    "        for t in range(max_t):\n",
    "            action1 = agent.act(state[0])\n",
    "            action2 = agent.act(state[1])\n",
    "            action = np.concatenate((action1, action2), axis=0)\n",
    "            action = np.clip(action, -1, 1)\n",
    "            env_info = env.step(action)[brain_name]\n",
    "            next_state = env_info.vector_observations\n",
    "            reward = env_info.rewards\n",
    "            done = env_info.local_done\n",
    "            agent.step(state, action, reward, next_state, done)\n",
    "\n",
    "            state = next_state\n",
    "            score += reward\n",
    "            if np.any(done):\n",
    "                break\n",
    "        scores_deque.append(np.max(score))\n",
    "        scores.append(np.max(score))\n",
    "        mean_scores.append(np.mean(scores_deque))  # save running mean\n",
    "        print('\\rEpisode {}\\tAverage Score: {:.4f}'.format(i_episode, np.mean(scores_deque)), end=\"\")\n",
    "        torch.save(agent.actor_local.state_dict(), 'checkpoint_actor.pth')\n",
    "        torch.save(agent.critic_local.state_dict(), 'checkpoint_critic.pth')\n",
    "        if i_episode % print_every == 0:\n",
    "            print('\\rEpisode {}\\tAverage Score: {:.4f}'.format(i_episode, np.mean(scores_deque)))\n",
    "\n",
    "        if np.mean(scores_deque) > 0.5:\n",
    "            print('\\nEnvironment solved in {:d} episodes!\\tAverage Score: {:.4f}'.format(i_episode,\n",
    "                                                                                         np.mean(scores_deque)))\n",
    "            break\n",
    "\n",
    "    return scores, mean_scores"
   ]
  },
  {
   "cell_type": "code",
   "execution_count": 10,
   "metadata": {},
   "outputs": [
    {
     "name": "stderr",
     "output_type": "stream",
     "text": [
      "C:\\ProgramData\\Anaconda2\\envs\\udacity\\lib\\site-packages\\torch\\nn\\functional.py:1374: UserWarning: nn.functional.tanh is deprecated. Use torch.tanh instead.\n",
      "  warnings.warn(\"nn.functional.tanh is deprecated. Use torch.tanh instead.\")\n"
     ]
    },
    {
     "name": "stdout",
     "output_type": "stream",
     "text": [
      "Episode 4\tAverage Score: 0.0000"
     ]
    },
    {
     "name": "stderr",
     "output_type": "stream",
     "text": [
      "D:\\GitClone\\Machine_Learning\\Udacity\\Deep Re-inforcement Learning\\deep-reinforcement-learning\\p3_collab-compet\\ddpg_agent.py:84: UserWarning: Using a target size (torch.Size([128, 2])) that is different to the input size (torch.Size([128, 1])). This will likely lead to incorrect results due to broadcasting. Please ensure they have the same size.\n",
      "  critic_loss = F.mse_loss(Q_expected, Q_targets)\n"
     ]
    },
    {
     "name": "stdout",
     "output_type": "stream",
     "text": [
      "Episode 100\tAverage Score: 0.0000\n",
      "Episode 200\tAverage Score: 0.0000\n",
      "Episode 300\tAverage Score: 0.0000\n",
      "Episode 400\tAverage Score: 0.0010\n",
      "Episode 500\tAverage Score: 0.0260\n",
      "Episode 600\tAverage Score: 0.0194\n",
      "Episode 700\tAverage Score: 0.0811\n",
      "Episode 800\tAverage Score: 0.0882\n",
      "Episode 900\tAverage Score: 0.0624\n",
      "Episode 1000\tAverage Score: 0.0099\n",
      "Episode 1100\tAverage Score: 0.0890\n",
      "Episode 1200\tAverage Score: 0.0524\n",
      "Episode 1300\tAverage Score: 0.0340\n",
      "Episode 1400\tAverage Score: 0.0973\n",
      "Episode 1475\tAverage Score: 0.5219\n",
      "Environment solved in 1475 episodes!\tAverage Score: 0.5219\n"
     ]
    }
   ],
   "source": [
    "scores, mean_scores = ddpg(n_episodes=5000, max_t=1000)"
   ]
  },
  {
   "cell_type": "code",
   "execution_count": 11,
   "metadata": {},
   "outputs": [
    {
     "data": {
      "image/png": "[encoded data removed]",
      "text/plain": [
       "<matplotlib.figure.Figure at 0x269d9d2fbe0>"
      ]
     },
     "metadata": {},
     "output_type": "display_data"
    }
   ],
   "source": [
    "fig = plt.figure()\n",
    "ax = fig.add_subplot(111)\n",
    "plt.plot(np.arange(1, len(scores)+1), scores, label='scores')\n",
    "plt.ylabel('Score')\n",
    "plt.xlabel('Episode #')\n",
    "plt.legend(loc='lower right')\n",
    "plt.grid()\n",
    "plt.show()"
   ]
  },
  {
   "cell_type": "code",
   "execution_count": 12,
   "metadata": {},
   "outputs": [
    {
     "name": "stderr",
     "output_type": "stream",
     "text": [
      "C:\\ProgramData\\Anaconda2\\envs\\udacity\\lib\\site-packages\\torch\\nn\\functional.py:1374: UserWarning: nn.functional.tanh is deprecated. Use torch.tanh instead.\n",
      "  warnings.warn(\"nn.functional.tanh is deprecated. Use torch.tanh instead.\")\n"
     ]
    },
    {
     "name": "stdout",
     "output_type": "stream",
     "text": [
      "----------------------------------------------------------------\n",
      "        Layer (type)               Output Shape         Param #\n",
      "================================================================\n",
      "            Linear-1                  [-1, 128]           3,200\n",
      "       BatchNorm1d-2                  [-1, 128]             256\n",
      "            Linear-3                  [-1, 128]          16,512\n",
      "            Linear-4                    [-1, 2]             258\n",
      "================================================================\n",
      "Total params: 20,226\n",
      "Trainable params: 20,226\n",
      "Non-trainable params: 0\n",
      "----------------------------------------------------------------\n",
      "Input size (MB): 0.00\n",
      "Forward/backward pass size (MB): 0.00\n",
      "Params size (MB): 0.08\n",
      "Estimated Total Size (MB): 0.08\n",
      "----------------------------------------------------------------\n"
     ]
    }
   ],
   "source": [
    "from torchsummary import summary\n",
    "summary(agent.actor_local, (state_size,))"
   ]
  },
  {
   "cell_type": "code",
   "execution_count": 13,
   "metadata": {},
   "outputs": [
    {
     "name": "stdout",
     "output_type": "stream",
     "text": [
      "----------------------------------------------------------------\n",
      "        Layer (type)               Output Shape         Param #\n",
      "================================================================\n",
      "            Linear-1                  [-1, 128]           3,200\n",
      "       BatchNorm1d-2                  [-1, 128]             256\n",
      "            Linear-3                  [-1, 128]          16,768\n",
      "            Linear-4                    [-1, 1]             129\n",
      "================================================================\n",
      "Total params: 20,353\n",
      "Trainable params: 20,353\n",
      "Non-trainable params: 0\n",
      "----------------------------------------------------------------\n",
      "Input size (MB): 0.00\n",
      "Forward/backward pass size (MB): 0.00\n",
      "Params size (MB): 0.08\n",
      "Estimated Total Size (MB): 0.08\n",
      "----------------------------------------------------------------\n"
     ]
    }
   ],
   "source": [
    "summary(agent.critic_local, [(state_size,), (action_size, )])"
   ]
  },
  {
   "cell_type": "code",
   "execution_count": 22,
   "metadata": {},
   "outputs": [],
   "source": [
    "agent = Agent(state_size=state_size, action_size=action_size, num_agents=num_agents, random_seed=50)"
   ]
  },
  {
   "cell_type": "code",
   "execution_count": 23,
   "metadata": {},
   "outputs": [
    {
     "data": {
      "text/plain": [
       "IncompatibleKeys(missing_keys=[], unexpected_keys=[])"
      ]
     },
     "execution_count": 23,
     "metadata": {},
     "output_type": "execute_result"
    }
   ],
   "source": [
    "agent.actor_local.load_state_dict(torch.load('checkpoint_actor.pth'))\n",
    "agent.critic_local.load_state_dict(torch.load('checkpoint_critic.pth'))"
   ]
  },
  {
   "cell_type": "code",
   "execution_count": 24,
   "metadata": {},
   "outputs": [
    {
     "name": "stderr",
     "output_type": "stream",
     "text": [
      "C:\\ProgramData\\Anaconda2\\envs\\udacity\\lib\\site-packages\\torch\\nn\\functional.py:1374: UserWarning: nn.functional.tanh is deprecated. Use torch.tanh instead.\n",
      "  warnings.warn(\"nn.functional.tanh is deprecated. Use torch.tanh instead.\")\n"
     ]
    },
    {
     "name": "stdout",
     "output_type": "stream",
     "text": [
      "Episode 1\tAverage Score: 2.60\n",
      "Episode 2\tAverage Score: 2.60\n",
      "Episode 3\tAverage Score: 2.63\n",
      "Episode 4\tAverage Score: 2.20\n",
      "Episode 5\tAverage Score: 1.78\n",
      "Episode 6\tAverage Score: 1.92\n",
      "Episode 7\tAverage Score: 2.01\n",
      "Episode 8\tAverage Score: 2.10\n",
      "Episode 9\tAverage Score: 2.08\n",
      "Episode 10\tAverage Score: 2.13\n",
      "Episode 11\tAverage Score: 2.17\n",
      "Episode 12\tAverage Score: 2.05\n",
      "Episode 13\tAverage Score: 2.09\n",
      "Episode 14\tAverage Score: 2.13\n",
      "Episode 15\tAverage Score: 2.17\n",
      "Episode 16\tAverage Score: 2.19\n",
      "Episode 17\tAverage Score: 2.20\n",
      "Episode 18\tAverage Score: 2.22\n",
      "Episode 19\tAverage Score: 2.15\n",
      "Episode 20\tAverage Score: 2.18\n",
      "Episode 21\tAverage Score: 2.07\n",
      "Episode 22\tAverage Score: 2.10\n",
      "Episode 23\tAverage Score: 2.04\n",
      "Episode 24\tAverage Score: 2.06\n",
      "Episode 25\tAverage Score: 2.00\n",
      "Episode 26\tAverage Score: 2.02\n",
      "Episode 27\tAverage Score: 2.01\n",
      "Episode 28\tAverage Score: 2.03\n",
      "Episode 29\tAverage Score: 2.05\n",
      "Episode 30\tAverage Score: 2.07\n",
      "Episode 31\tAverage Score: 2.09\n",
      "Episode 32\tAverage Score: 2.04\n",
      "Episode 33\tAverage Score: 2.05\n",
      "Episode 34\tAverage Score: 2.07\n",
      "Episode 35\tAverage Score: 2.09\n",
      "Episode 36\tAverage Score: 2.04\n",
      "Episode 37\tAverage Score: 2.06\n",
      "Episode 38\tAverage Score: 2.07\n",
      "Episode 39\tAverage Score: 2.06\n",
      "Episode 40\tAverage Score: 2.08\n",
      "Episode 41\tAverage Score: 2.09\n",
      "Episode 42\tAverage Score: 2.10\n",
      "Episode 43\tAverage Score: 2.12\n",
      "Episode 44\tAverage Score: 2.13\n",
      "Episode 45\tAverage Score: 2.14\n",
      "Episode 46\tAverage Score: 2.15\n",
      "Episode 47\tAverage Score: 2.16\n",
      "Episode 48\tAverage Score: 2.17\n",
      "Episode 49\tAverage Score: 2.13\n",
      "Episode 50\tAverage Score: 2.13\n",
      "Episode 51\tAverage Score: 2.14\n",
      "Episode 52\tAverage Score: 2.14\n",
      "Episode 53\tAverage Score: 2.15\n",
      "Episode 54\tAverage Score: 2.11\n",
      "Episode 55\tAverage Score: 2.09\n",
      "Episode 56\tAverage Score: 2.09\n",
      "Episode 57\tAverage Score: 2.10\n",
      "Episode 58\tAverage Score: 2.11\n",
      "Episode 59\tAverage Score: 2.09\n",
      "Episode 60\tAverage Score: 2.10\n",
      "Episode 61\tAverage Score: 2.11\n",
      "Episode 62\tAverage Score: 2.12\n",
      "Episode 63\tAverage Score: 2.13\n",
      "Episode 64\tAverage Score: 2.14\n",
      "Episode 65\tAverage Score: 2.14\n",
      "Episode 66\tAverage Score: 2.15\n",
      "Episode 67\tAverage Score: 2.16\n",
      "Episode 68\tAverage Score: 2.16\n",
      "Episode 69\tAverage Score: 2.17\n",
      "Episode 70\tAverage Score: 2.17\n",
      "Episode 71\tAverage Score: 2.14\n",
      "Episode 72\tAverage Score: 2.14\n",
      "Episode 73\tAverage Score: 2.15\n",
      "Episode 74\tAverage Score: 2.16\n",
      "Episode 75\tAverage Score: 2.16\n",
      "Episode 76\tAverage Score: 2.17\n",
      "Episode 77\tAverage Score: 2.18\n",
      "Episode 78\tAverage Score: 2.18\n",
      "Episode 79\tAverage Score: 2.17\n",
      "Episode 80\tAverage Score: 2.17\n",
      "Episode 81\tAverage Score: 2.15\n",
      "Episode 82\tAverage Score: 2.15\n",
      "Episode 83\tAverage Score: 2.16\n",
      "Episode 84\tAverage Score: 2.14\n",
      "Episode 85\tAverage Score: 2.14\n",
      "Episode 86\tAverage Score: 2.15\n",
      "Episode 87\tAverage Score: 2.15\n",
      "Episode 88\tAverage Score: 2.15\n",
      "Episode 89\tAverage Score: 2.13\n",
      "Episode 90\tAverage Score: 2.13\n",
      "Episode 91\tAverage Score: 2.13\n",
      "Episode 92\tAverage Score: 2.13\n",
      "Episode 93\tAverage Score: 2.11\n",
      "Episode 94\tAverage Score: 2.11\n",
      "Episode 95\tAverage Score: 2.12\n",
      "Episode 96\tAverage Score: 2.10\n",
      "Episode 97\tAverage Score: 2.10\n",
      "Episode 98\tAverage Score: 2.11\n",
      "Episode 99\tAverage Score: 2.11\n",
      "Episode 100\tAverage Score: 2.12\n",
      "Average Score Of 100 Consecutive Episodes: 2.1279026303537676\n"
     ]
    }
   ],
   "source": [
    "n_episodes=100\n",
    "scores_deque = deque(maxlen=100)\n",
    "scores = []\n",
    "mean_scores = []\n",
    "max_t = 1000\n",
    "for i_episode in range(1, n_episodes+1):\n",
    "    env_info = env.reset(train_mode=False)[brain_name]\n",
    "    state = env_info.vector_observations\n",
    "    agent.reset()\n",
    "    score = np.zeros(num_agents)\n",
    "    for t in range(max_t):\n",
    "        action1 = agent.act(state[0])\n",
    "        action2 = agent.act(state[1])\n",
    "        action = np.concatenate((action1, action2), axis=0)\n",
    "        action = np.clip(action, -1, 1)\n",
    "        env_info = env.step(action)[brain_name]\n",
    "        next_state = env_info.vector_observations\n",
    "        reward = env_info.rewards\n",
    "        done = env_info.local_done\n",
    "        #agent.step(state, action, reward, next_state, done)\n",
    "\n",
    "        state = next_state\n",
    "        score += reward\n",
    "        if np.any(done):\n",
    "            break\n",
    "    scores_deque.append(np.max(score))\n",
    "    scores.append(np.max(score))\n",
    "    mean_scores.append(np.mean(scores_deque))  # save running mean     \n",
    "    print('\\rEpisode {}\\tAverage Score: {:.2f}'.format(i_episode, np.mean(scores_deque)))\n",
    "    \n",
    "print(\"Average Score Of 100 Consecutive Episodes: {}\".format(np.mean(mean_scores)))"
   ]
  },
  {
   "cell_type": "code",
   "execution_count": 25,
   "metadata": {},
   "outputs": [],
   "source": [
    "env.close()"
   ]
  },
  {
   "cell_type": "code",
   "execution_count": null,
   "metadata": {},
   "outputs": [],
   "source": []
  }
 ],
 "metadata": {
  "kernelspec": {
   "display_name": "Python 3",
   "language": "python",
   "name": "python3"
  }
 },
 "nbformat": 4,
 "nbformat_minor": 2
}
